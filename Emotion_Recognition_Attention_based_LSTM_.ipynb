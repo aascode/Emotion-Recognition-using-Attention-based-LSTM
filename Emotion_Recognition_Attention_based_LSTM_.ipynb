{
  "nbformat": 4,
  "nbformat_minor": 0,
  "metadata": {
    "colab": {
      "name": "Emotion Recognition-Attention based LSTM .ipynb",
      "provenance": [],
      "authorship_tag": "ABX9TyPiS5eZd1Ozj20HtTB7XqZf",
      "include_colab_link": true
    },
    "kernelspec": {
      "name": "python3",
      "display_name": "Python 3"
    },
    "accelerator": "GPU"
  },
  "cells": [
    {
      "cell_type": "markdown",
      "metadata": {
        "id": "view-in-github",
        "colab_type": "text"
      },
      "source": [
        "<a href=\"https://colab.research.google.com/github/ruchi571993/Emotion-Recognition-using-Attention-based-LSTM/blob/master/Emotion_Recognition_Attention_based_LSTM_.ipynb\" target=\"_parent\"><img src=\"https://colab.research.google.com/assets/colab-badge.svg\" alt=\"Open In Colab\"/></a>"
      ]
    },
    {
      "cell_type": "code",
      "metadata": {
        "id": "UFlKYOjdOMuX",
        "colab_type": "code",
        "colab": {}
      },
      "source": [
        "#pip install tensorflow==1.14"
      ],
      "execution_count": 0,
      "outputs": []
    },
    {
      "cell_type": "code",
      "metadata": {
        "id": "OlXdvRXbLczf",
        "colab_type": "code",
        "colab": {}
      },
      "source": [
        "import tensorflow as tf\n",
        "from keras.backend.tensorflow_backend import set_session\n",
        "config = tf.ConfigProto()\n",
        "config.gpu_options.allow_growth = True\n",
        "config.log_device_placement = True\n",
        "sess = tf.Session(config=config)\n",
        "set_session(sess)"
      ],
      "execution_count": 0,
      "outputs": []
    },
    {
      "cell_type": "code",
      "metadata": {
        "id": "Mz1uDv4Pu3HR",
        "colab_type": "code",
        "colab": {}
      },
      "source": [
        "import tensorflow as tf\n",
        "from keras import Model, Input\n",
        "from keras.preprocessing.sequence import pad_sequences\n",
        "from keras.preprocessing.text import Tokenizer\n",
        "from keras.models import Sequential\n",
        "from keras.layers import Dense, Embedding, CuDNNLSTM, Dropout, TimeDistributed, Reshape, Activation, Dot\n",
        "from keras.layers.wrappers import Bidirectional\n",
        "from keras.utils import to_categorical\n",
        "import numpy as np \n",
        "import pandas as pd\n",
        "import random\n",
        "import matplotlib.pyplot as plt; plt.rcdefaults()\n",
        "from IPython.core.display import display, HTML\n",
        "%matplotlib inline"
      ],
      "execution_count": 0,
      "outputs": []
    },
    {
      "cell_type": "code",
      "metadata": {
        "id": "9DPEppYQ73_U",
        "colab_type": "code",
        "colab": {}
      },
      "source": [
        "from pydrive.auth import GoogleAuth\n",
        "from pydrive.drive import GoogleDrive\n",
        "from google.colab import auth\n",
        "from oauth2client.client import GoogleCredentials\n",
        "\n",
        "auth.authenticate_user()\n",
        "gauth = GoogleAuth()\n",
        "gauth.credentials = GoogleCredentials.get_application_default()\n",
        "drive = GoogleDrive(gauth)"
      ],
      "execution_count": 0,
      "outputs": []
    },
    {
      "cell_type": "code",
      "metadata": {
        "id": "k049spew74Ud",
        "colab_type": "code",
        "colab": {}
      },
      "source": [
        "downloaded_train = drive.CreateFile({'id':\"1Wr2IChJjAuaPKMchF6a3mrqMEim-zMNY\"})   # \n",
        "downloaded_train.GetContentFile('emotiondata.csv')"
      ],
      "execution_count": 0,
      "outputs": []
    },
    {
      "cell_type": "code",
      "metadata": {
        "id": "1tb3JpWMv0gF",
        "colab_type": "code",
        "colab": {}
      },
      "source": [
        "import pandas as pd\n",
        "df = pd.read_csv('emotiondata.csv')\n",
        "df=df.iloc[:10000,:]"
      ],
      "execution_count": 0,
      "outputs": []
    },
    {
      "cell_type": "code",
      "metadata": {
        "id": "eDebtCXm8ghN",
        "colab_type": "code",
        "outputId": "be9eefad-0ee8-412a-b418-de8af4b29263",
        "colab": {
          "base_uri": "https://localhost:8080/",
          "height": 202
        }
      },
      "source": [
        "df.head()"
      ],
      "execution_count": 0,
      "outputs": [
        {
          "output_type": "execute_result",
          "data": {
            "text/html": [
              "<div>\n",
              "<style scoped>\n",
              "    .dataframe tbody tr th:only-of-type {\n",
              "        vertical-align: middle;\n",
              "    }\n",
              "\n",
              "    .dataframe tbody tr th {\n",
              "        vertical-align: top;\n",
              "    }\n",
              "\n",
              "    .dataframe thead th {\n",
              "        text-align: right;\n",
              "    }\n",
              "</style>\n",
              "<table border=\"1\" class=\"dataframe\">\n",
              "  <thead>\n",
              "    <tr style=\"text-align: right;\">\n",
              "      <th></th>\n",
              "      <th>Unnamed: 0</th>\n",
              "      <th>text</th>\n",
              "      <th>emotions</th>\n",
              "    </tr>\n",
              "  </thead>\n",
              "  <tbody>\n",
              "    <tr>\n",
              "      <th>0</th>\n",
              "      <td>27383</td>\n",
              "      <td>i feel awful about it too because it s my job ...</td>\n",
              "      <td>sadness</td>\n",
              "    </tr>\n",
              "    <tr>\n",
              "      <th>1</th>\n",
              "      <td>110083</td>\n",
              "      <td>im alone i feel awful</td>\n",
              "      <td>sadness</td>\n",
              "    </tr>\n",
              "    <tr>\n",
              "      <th>2</th>\n",
              "      <td>140764</td>\n",
              "      <td>ive probably mentioned this before but i reall...</td>\n",
              "      <td>joy</td>\n",
              "    </tr>\n",
              "    <tr>\n",
              "      <th>3</th>\n",
              "      <td>100071</td>\n",
              "      <td>i was feeling a little low few days back</td>\n",
              "      <td>sadness</td>\n",
              "    </tr>\n",
              "    <tr>\n",
              "      <th>4</th>\n",
              "      <td>2837</td>\n",
              "      <td>i beleive that i am much more sensitive to oth...</td>\n",
              "      <td>love</td>\n",
              "    </tr>\n",
              "  </tbody>\n",
              "</table>\n",
              "</div>"
            ],
            "text/plain": [
              "   Unnamed: 0                                               text emotions\n",
              "0       27383  i feel awful about it too because it s my job ...  sadness\n",
              "1      110083                              im alone i feel awful  sadness\n",
              "2      140764  ive probably mentioned this before but i reall...      joy\n",
              "3      100071           i was feeling a little low few days back  sadness\n",
              "4        2837  i beleive that i am much more sensitive to oth...     love"
            ]
          },
          "metadata": {
            "tags": []
          },
          "execution_count": 9
        }
      ]
    },
    {
      "cell_type": "code",
      "metadata": {
        "id": "Wyd50oha8k3l",
        "colab_type": "code",
        "outputId": "6224110c-2690-46e3-942b-39b0d121effd",
        "colab": {
          "base_uri": "https://localhost:8080/",
          "height": 315
        }
      },
      "source": [
        "df.emotions.value_counts().plot.bar()"
      ],
      "execution_count": 0,
      "outputs": [
        {
          "output_type": "execute_result",
          "data": {
            "text/plain": [
              "<matplotlib.axes._subplots.AxesSubplot at 0x7fd1dbf89b38>"
            ]
          },
          "metadata": {
            "tags": []
          },
          "execution_count": 10
        },
        {
          "output_type": "display_data",
          "data": {
            "image/png": "[encoded data removed]",
            "text/plain": [
              "<Figure size 432x288 with 1 Axes>"
            ]
          },
          "metadata": {
            "tags": [],
            "needs_background": "light"
          }
        }
      ]
    },
    {
      "cell_type": "code",
      "metadata": {
        "id": "jg5YSuas84l9",
        "colab_type": "code",
        "colab": {}
      },
      "source": [
        "text_tokens = [text.split(\" \") for text in df[\"text\"].values.tolist()]\n",
        "text = df[\"text\"].values.tolist()\n",
        "labels = df[\"emotions\"].values.tolist()"
      ],
      "execution_count": 0,
      "outputs": []
    },
    {
      "cell_type": "markdown",
      "metadata": {
        "id": "YsoaJ9mFEGhC",
        "colab_type": "text"
      },
      "source": [
        "# Tokenizer"
      ]
    },
    {
      "cell_type": "code",
      "metadata": {
        "id": "7LiFqlZlDzVo",
        "colab_type": "code",
        "colab": {}
      },
      "source": [
        "tokenizer = Tokenizer()\n",
        "tokenizer.fit_on_texts(text)"
      ],
      "execution_count": 0,
      "outputs": []
    },
    {
      "cell_type": "code",
      "metadata": {
        "id": "CsAlXWVXEM70",
        "colab_type": "code",
        "colab": {}
      },
      "source": [
        "word2id = tokenizer.word_index\n",
        "vocab_size = len(word2id) + 1"
      ],
      "execution_count": 0,
      "outputs": []
    },
    {
      "cell_type": "markdown",
      "metadata": {
        "id": "tsojYBYVEaBz",
        "colab_type": "text"
      },
      "source": [
        "# Generating data"
      ]
    },
    {
      "cell_type": "code",
      "metadata": {
        "id": "Y3dN3w8vEWA_",
        "colab_type": "code",
        "colab": {}
      },
      "source": [
        "embedding_dim = 100\n",
        "max_len = 150"
      ],
      "execution_count": 0,
      "outputs": []
    },
    {
      "cell_type": "code",
      "metadata": {
        "id": "ZwDR0qsEEfs1",
        "colab_type": "code",
        "outputId": "772ecd84-2fcf-4c26-e9c8-768dc83dffa4",
        "colab": {
          "base_uri": "https://localhost:8080/",
          "height": 35
        }
      },
      "source": [
        "X = [[word2id[word] for word in sent] for sent in text_tokens]\n",
        "print(X[0])"
      ],
      "execution_count": 0,
      "outputs": [
        {
          "output_type": "stream",
          "text": [
            "[1, 2, 412, 25, 12, 89, 36, 12, 88, 10, 316, 4, 52, 82, 11, 6, 1045, 4, 2549, 3, 12, 33, 238, 39, 530, 140]\n"
          ],
          "name": "stdout"
        }
      ]
    },
    {
      "cell_type": "code",
      "metadata": {
        "id": "4eTTPQR-EpFw",
        "colab_type": "code",
        "colab": {}
      },
      "source": [
        "pad = 'post'\n",
        "X_pad = pad_sequences(X, maxlen=max_len, padding=pad, truncating=pad)"
      ],
      "execution_count": 0,
      "outputs": []
    },
    {
      "cell_type": "code",
      "metadata": {
        "id": "g6JDPHIGErVm",
        "colab_type": "code",
        "outputId": "4b496c30-7475-4077-e6e8-b2a976ecbe3d",
        "colab": {
          "base_uri": "https://localhost:8080/",
          "height": 208
        }
      },
      "source": [
        "print(X_pad[0])"
      ],
      "execution_count": 0,
      "outputs": [
        {
          "output_type": "stream",
          "text": [
            "[   1    2  412   25   12   89   36   12   88   10  316    4   52   82\n",
            "   11    6 1045    4 2549    3   12   33  238   39  530  140    0    0\n",
            "    0    0    0    0    0    0    0    0    0    0    0    0    0    0\n",
            "    0    0    0    0    0    0    0    0    0    0    0    0    0    0\n",
            "    0    0    0    0    0    0    0    0    0    0    0    0    0    0\n",
            "    0    0    0    0    0    0    0    0    0    0    0    0    0    0\n",
            "    0    0    0    0    0    0    0    0    0    0    0    0    0    0\n",
            "    0    0    0    0    0    0    0    0    0    0    0    0    0    0\n",
            "    0    0    0    0    0    0    0    0    0    0    0    0    0    0\n",
            "    0    0    0    0    0    0    0    0    0    0    0    0    0    0\n",
            "    0    0    0    0    0    0    0    0    0    0]\n"
          ],
          "name": "stdout"
        }
      ]
    },
    {
      "cell_type": "code",
      "metadata": {
        "id": "Utjfyw2VEujq",
        "colab_type": "code",
        "outputId": "5cc88c73-9a42-4f36-d6ca-da2d08b731c2",
        "colab": {
          "base_uri": "https://localhost:8080/",
          "height": 35
        }
      },
      "source": [
        "label2id = {l: i for i, l in enumerate(set(labels))}\n",
        "id2label = {v: k for k, v in label2id.items()}\n",
        "id2label"
      ],
      "execution_count": 0,
      "outputs": [
        {
          "output_type": "execute_result",
          "data": {
            "text/plain": [
              "{0: 'sadness', 1: 'love', 2: 'surprise', 3: 'fear', 4: 'anger', 5: 'joy'}"
            ]
          },
          "metadata": {
            "tags": []
          },
          "execution_count": 18
        }
      ]
    },
    {
      "cell_type": "code",
      "metadata": {
        "id": "rRJv_VmkE1ai",
        "colab_type": "code",
        "colab": {}
      },
      "source": [
        "y = [label2id[label] for label in labels]"
      ],
      "execution_count": 0,
      "outputs": []
    },
    {
      "cell_type": "code",
      "metadata": {
        "id": "UxRpwLpvE4Kc",
        "colab_type": "code",
        "colab": {}
      },
      "source": [
        "y = to_categorical(y, num_classes=len(label2id), dtype='float32')"
      ],
      "execution_count": 0,
      "outputs": []
    },
    {
      "cell_type": "code",
      "metadata": {
        "id": "LYPipVR5E661",
        "colab_type": "code",
        "outputId": "793d3272-70e0-4441-9cbb-84e74228ae7c",
        "colab": {
          "base_uri": "https://localhost:8080/",
          "height": 52
        }
      },
      "source": [
        "print(\"X (shape): {}\".format(X_pad.shape))\n",
        "print(\"y (shape): {}\".format(y.shape))"
      ],
      "execution_count": 0,
      "outputs": [
        {
          "output_type": "stream",
          "text": [
            "X (shape): (10000, 150)\n",
            "y (shape): (10000, 6)\n"
          ],
          "name": "stdout"
        }
      ]
    },
    {
      "cell_type": "markdown",
      "metadata": {
        "id": "oPTdOxwwE_HU",
        "colab_type": "text"
      },
      "source": [
        "# Create model"
      ]
    },
    {
      "cell_type": "code",
      "metadata": {
        "id": "5n8ue_cqE96c",
        "colab_type": "code",
        "colab": {}
      },
      "source": [
        "seq_input = Input(shape=(max_len,), dtype='int32')"
      ],
      "execution_count": 0,
      "outputs": []
    },
    {
      "cell_type": "code",
      "metadata": {
        "id": "1FZ0ywJmKct8",
        "colab_type": "code",
        "colab": {}
      },
      "source": [
        "embedded = Embedding(vocab_size,\n",
        "                     embedding_dim,\n",
        "                     input_length=max_len)(seq_input)"
      ],
      "execution_count": 0,
      "outputs": []
    },
    {
      "cell_type": "code",
      "metadata": {
        "id": "9wv36hAhLRzd",
        "colab_type": "code",
        "colab": {}
      },
      "source": [
        "embedded = Dropout(0.2)(embedded)"
      ],
      "execution_count": 0,
      "outputs": []
    },
    {
      "cell_type": "code",
      "metadata": {
        "id": "tgzyEj4mLVNn",
        "colab_type": "code",
        "colab": {}
      },
      "source": [
        "from keras.layers import Dense, LSTM\n",
        "lstm = Bidirectional(LSTM(embedding_dim, recurrent_activation='sigmoid',return_sequences=True))(embedded)\n",
        "\n"
      ],
      "execution_count": 0,
      "outputs": []
    },
    {
      "cell_type": "code",
      "metadata": {
        "id": "HhDC3CV9O2F2",
        "colab_type": "code",
        "colab": {}
      },
      "source": [
        "lstm=Dropout(0.2)(lstm)"
      ],
      "execution_count": 0,
      "outputs": []
    },
    {
      "cell_type": "markdown",
      "metadata": {
        "id": "MteWWYGtO921",
        "colab_type": "text"
      },
      "source": [
        "# Attention Mechanism"
      ]
    },
    {
      "cell_type": "code",
      "metadata": {
        "id": "HUBsUqYrPAI7",
        "colab_type": "code",
        "colab": {}
      },
      "source": [
        "att_vector = TimeDistributed(Dense(1))(lstm)"
      ],
      "execution_count": 0,
      "outputs": []
    },
    {
      "cell_type": "code",
      "metadata": {
        "id": "KA6cf-d-PEGO",
        "colab_type": "code",
        "colab": {}
      },
      "source": [
        "att_vector = Reshape((max_len,))(att_vector)"
      ],
      "execution_count": 0,
      "outputs": []
    },
    {
      "cell_type": "code",
      "metadata": {
        "id": "kR1oOrQ-PEMD",
        "colab_type": "code",
        "colab": {}
      },
      "source": [
        "att_vector = Activation('softmax', name='attention_vec')(att_vector)"
      ],
      "execution_count": 0,
      "outputs": []
    },
    {
      "cell_type": "code",
      "metadata": {
        "id": "pGYJtU5gPHnu",
        "colab_type": "code",
        "colab": {}
      },
      "source": [
        "att_output = Dot(axes=1)([lstm, att_vector])"
      ],
      "execution_count": 0,
      "outputs": []
    },
    {
      "cell_type": "markdown",
      "metadata": {
        "id": "WFcabFhfPOtG",
        "colab_type": "text"
      },
      "source": [
        "# Final Layers"
      ]
    },
    {
      "cell_type": "code",
      "metadata": {
        "id": "uDambMbIPL06",
        "colab_type": "code",
        "colab": {}
      },
      "source": [
        "fc = Dense(embedding_dim, activation='relu')(att_output)\n",
        "output = Dense(len(label2id), activation='softmax')(fc)"
      ],
      "execution_count": 0,
      "outputs": []
    },
    {
      "cell_type": "code",
      "metadata": {
        "id": "QbMVk0oSPVyR",
        "colab_type": "code",
        "colab": {}
      },
      "source": [
        "model = Model(inputs=[seq_input], outputs=output)"
      ],
      "execution_count": 0,
      "outputs": []
    },
    {
      "cell_type": "code",
      "metadata": {
        "id": "K3GozGyGPYXr",
        "colab_type": "code",
        "outputId": "89c26064-9037-4531-e7af-f5c1c2e106a9",
        "colab": {
          "base_uri": "https://localhost:8080/",
          "height": 555
        }
      },
      "source": [
        "model.summary()"
      ],
      "execution_count": 0,
      "outputs": [
        {
          "output_type": "stream",
          "text": [
            "Model: \"model_1\"\n",
            "__________________________________________________________________________________________________\n",
            "Layer (type)                    Output Shape         Param #     Connected to                     \n",
            "==================================================================================================\n",
            "input_1 (InputLayer)            (None, 150)          0                                            \n",
            "__________________________________________________________________________________________________\n",
            "embedding_1 (Embedding)         (None, 150, 100)     1182200     input_1[0][0]                    \n",
            "__________________________________________________________________________________________________\n",
            "dropout_1 (Dropout)             (None, 150, 100)     0           embedding_1[0][0]                \n",
            "__________________________________________________________________________________________________\n",
            "bidirectional_1 (Bidirectional) (None, 150, 200)     160800      dropout_1[0][0]                  \n",
            "__________________________________________________________________________________________________\n",
            "dropout_2 (Dropout)             (None, 150, 200)     0           bidirectional_1[0][0]            \n",
            "__________________________________________________________________________________________________\n",
            "time_distributed_1 (TimeDistrib (None, 150, 1)       201         dropout_2[0][0]                  \n",
            "__________________________________________________________________________________________________\n",
            "reshape_1 (Reshape)             (None, 150)          0           time_distributed_1[0][0]         \n",
            "__________________________________________________________________________________________________\n",
            "attention_vec (Activation)      (None, 150)          0           reshape_1[0][0]                  \n",
            "__________________________________________________________________________________________________\n",
            "dot_1 (Dot)                     (None, 200)          0           dropout_2[0][0]                  \n",
            "                                                                 attention_vec[0][0]              \n",
            "__________________________________________________________________________________________________\n",
            "dense_2 (Dense)                 (None, 100)          20100       dot_1[0][0]                      \n",
            "__________________________________________________________________________________________________\n",
            "dense_3 (Dense)                 (None, 6)            606         dense_2[0][0]                    \n",
            "==================================================================================================\n",
            "Total params: 1,363,907\n",
            "Trainable params: 1,363,907\n",
            "Non-trainable params: 0\n",
            "__________________________________________________________________________________________________\n"
          ],
          "name": "stdout"
        }
      ]
    },
    {
      "cell_type": "markdown",
      "metadata": {
        "id": "ZxK-jhd0PcsD",
        "colab_type": "text"
      },
      "source": [
        "# Compiling model"
      ]
    },
    {
      "cell_type": "code",
      "metadata": {
        "id": "BR9sxIqVPZX1",
        "colab_type": "code",
        "colab": {}
      },
      "source": [
        "model.compile(loss=\"categorical_crossentropy\", metrics=[\"accuracy\"], optimizer='adam')"
      ],
      "execution_count": 0,
      "outputs": []
    },
    {
      "cell_type": "markdown",
      "metadata": {
        "id": "SufPmWbVPhj3",
        "colab_type": "text"
      },
      "source": [
        "# Training Model"
      ]
    },
    {
      "cell_type": "code",
      "metadata": {
        "id": "1cEtGarjPkYC",
        "colab_type": "code",
        "outputId": "b00f10c1-f68f-4202-f322-ed4bfb07dd4c",
        "colab": {
          "base_uri": "https://localhost:8080/",
          "height": 176
        }
      },
      "source": [
        "\n",
        "model.fit(X_pad, y, epochs=2, batch_size=64, validation_split=0.2, shuffle=True, verbose=2)"
      ],
      "execution_count": 0,
      "outputs": [
        {
          "output_type": "stream",
          "text": [
            "WARNING:tensorflow:From /usr/local/lib/python3.6/dist-packages/keras/backend/tensorflow_backend.py:422: The name tf.global_variables is deprecated. Please use tf.compat.v1.global_variables instead.\n",
            "\n",
            "Train on 8000 samples, validate on 2000 samples\n",
            "Epoch 1/2\n",
            " - 76s - loss: 1.5908 - accuracy: 0.3243 - val_loss: 1.5650 - val_accuracy: 0.3000\n",
            "Epoch 2/2\n",
            " - 70s - loss: 1.2621 - accuracy: 0.4184 - val_loss: 1.0528 - val_accuracy: 0.5045\n"
          ],
          "name": "stdout"
        },
        {
          "output_type": "execute_result",
          "data": {
            "text/plain": [
              "<keras.callbacks.callbacks.History at 0x7fd1d9f2bb00>"
            ]
          },
          "metadata": {
            "tags": []
          },
          "execution_count": 35
        }
      ]
    },
    {
      "cell_type": "markdown",
      "metadata": {
        "id": "l4vl8WKdPqiR",
        "colab_type": "text"
      },
      "source": [
        "# Loading Attention Layer"
      ]
    },
    {
      "cell_type": "code",
      "metadata": {
        "id": "GTsSOfkVPpoz",
        "colab_type": "code",
        "colab": {}
      },
      "source": [
        "model_att = Model(inputs=model.input,\n",
        "                  outputs=[model.output, model.get_layer('attention_vec').output])"
      ],
      "execution_count": 0,
      "outputs": []
    },
    {
      "cell_type": "code",
      "metadata": {
        "id": "uDgidSnksXvT",
        "colab_type": "code",
        "colab": {}
      },
      "source": [
        ""
      ],
      "execution_count": 0,
      "outputs": []
    },
    {
      "cell_type": "markdown",
      "metadata": {
        "id": "WdPreqmMP11_",
        "colab_type": "text"
      },
      "source": [
        "# Testing with a sample text"
      ]
    },
    {
      "cell_type": "code",
      "metadata": {
        "id": "lxKffeBtP00b",
        "colab_type": "code",
        "outputId": "a874c6c8-dabf-4ff3-feaa-0077775b6c2b",
        "colab": {
          "base_uri": "https://localhost:8080/",
          "height": 35
        }
      },
      "source": [
        "sample_text = random.choice(df[\"text\"].values.tolist())\n",
        "print(sample_text)"
      ],
      "execution_count": 0,
      "outputs": [
        {
          "output_type": "stream",
          "text": [
            "i still feel apprehensive about some of my secondary school mates and have distanced myself away from them\n"
          ],
          "name": "stdout"
        }
      ]
    },
    {
      "cell_type": "code",
      "metadata": {
        "id": "JqnxirNCP6fM",
        "colab_type": "code",
        "colab": {}
      },
      "source": [
        "tokenized_sample = sample_text.split(\" \")\n",
        "encoded_samples = [[word2id[word] for word in tokenized_sample]]"
      ],
      "execution_count": 0,
      "outputs": []
    },
    {
      "cell_type": "code",
      "metadata": {
        "id": "9eshtINYP8p8",
        "colab_type": "code",
        "colab": {}
      },
      "source": [
        "encoded_samples = pad_sequences(encoded_samples, maxlen=max_len)"
      ],
      "execution_count": 0,
      "outputs": []
    },
    {
      "cell_type": "code",
      "metadata": {
        "id": "CqwelmjgP_VX",
        "colab_type": "code",
        "colab": {}
      },
      "source": [
        "label_probs, attentions = model_att.predict(encoded_samples)"
      ],
      "execution_count": 0,
      "outputs": []
    },
    {
      "cell_type": "markdown",
      "metadata": {
        "id": "0s4xlVdcQDYc",
        "colab_type": "text"
      },
      "source": [
        "# Probabilities for each class:"
      ]
    },
    {
      "cell_type": "code",
      "metadata": {
        "id": "Cn6FYVNJQEmG",
        "colab_type": "code",
        "outputId": "0cbaaf64-ef48-42f6-97f9-22748cf61e0c",
        "colab": {
          "base_uri": "https://localhost:8080/",
          "height": 35
        }
      },
      "source": [
        "label_probs = {id2label[_id]: prob for (label, _id), prob in zip(label2id.items(),label_probs[0])}\n",
        "\n",
        "print(label_probs)"
      ],
      "execution_count": 0,
      "outputs": [
        {
          "output_type": "stream",
          "text": [
            "{'sadness': 0.37823975, 'love': 0.005305972, 'surprise': 0.00015968205, 'fear': 0.001024318, 'anger': 0.002612796, 'joy': 0.6126574}\n"
          ],
          "name": "stdout"
        }
      ]
    },
    {
      "cell_type": "markdown",
      "metadata": {
        "id": "sM5zMMHFQJ_O",
        "colab_type": "text"
      },
      "source": [
        "# Attention vector "
      ]
    },
    {
      "cell_type": "code",
      "metadata": {
        "id": "b27rok_BQJe6",
        "colab_type": "code",
        "outputId": "3f88a9ed-8eda-4f26-abc7-5c1aa128dd7a",
        "colab": {
          "base_uri": "https://localhost:8080/",
          "height": 55
        }
      },
      "source": [
        "token_attention_dic = {}\n",
        "max_score = 0.0\n",
        "min_score = 0.0\n",
        "for token, attention_score in zip(tokenized_sample, attentions[0][-len(tokenized_sample):]):\n",
        "    token_attention_dic[token] = attention_score\n",
        "\n",
        "print(token_attention_dic)"
      ],
      "execution_count": 0,
      "outputs": [
        {
          "output_type": "stream",
          "text": [
            "{'i': 0.01122734, 'still': 0.01518782, 'feel': 0.027174624, 'apprehensive': 0.16914868, 'about': 0.017364495, 'some': 0.010577382, 'of': 0.010692412, 'my': 0.010624816, 'secondary': 0.008450388, 'school': 0.010362289, 'mates': 0.010173627, 'and': 0.008644657, 'have': 0.008673621, 'distanced': 0.010037857, 'myself': 0.010222349, 'away': 0.011912993, 'from': 0.011834656, 'them': 0.013356242}\n"
          ],
          "name": "stdout"
        }
      ]
    },
    {
      "cell_type": "markdown",
      "metadata": {
        "id": "cy60fLCMQQqL",
        "colab_type": "text"
      },
      "source": [
        "# Visualization"
      ]
    },
    {
      "cell_type": "code",
      "metadata": {
        "id": "8QgyXDXyQOR5",
        "colab_type": "code",
        "colab": {}
      },
      "source": [
        "def rgb_to_hex(rgb):\n",
        "    return '#%02x%02x%02x' % rgb"
      ],
      "execution_count": 0,
      "outputs": []
    },
    {
      "cell_type": "code",
      "metadata": {
        "id": "baYCiMvaQTJ9",
        "colab_type": "code",
        "colab": {}
      },
      "source": [
        "def attention_color(attention_score):\n",
        "    c = 255 - int(attention_score * 255)\n",
        "    color = rgb_to_hex((c,255,c))\n",
        "    return str(color)"
      ],
      "execution_count": 0,
      "outputs": []
    },
    {
      "cell_type": "code",
      "metadata": {
        "id": "tnM1vwpeQY_K",
        "colab_type": "code",
        "colab": {}
      },
      "source": [
        "html_text = \"<hr><p style='font-size: large'><b>Text:  </b>\"\n",
        "for word, att in token_attention_dic.items():\n",
        "    html_text += \"<span style='background-color:{};'>{} <span> \".format(attention_color(att), word)\n",
        "html_text += \"</p>\""
      ],
      "execution_count": 0,
      "outputs": []
    },
    {
      "cell_type": "code",
      "metadata": {
        "id": "vQf2baQuQZ5E",
        "colab_type": "code",
        "outputId": "6f477c19-9f3e-4c39-b4b5-fa1eff564617",
        "colab": {
          "base_uri": "https://localhost:8080/",
          "height": 61
        }
      },
      "source": [
        "display(HTML(html_text))"
      ],
      "execution_count": 0,
      "outputs": [
        {
          "output_type": "display_data",
          "data": {
            "text/html": [
              "<hr><p style='font-size: large'><b>Text:  </b><span style='background-color:#fdfffd;'>i <span> <span style='background-color:#fcfffc;'>still <span> <span style='background-color:#f9fff9;'>feel <span> <span style='background-color:#d4ffd4;'>apprehensive <span> <span style='background-color:#fbfffb;'>about <span> <span style='background-color:#fdfffd;'>some <span> <span style='background-color:#fdfffd;'>of <span> <span style='background-color:#fdfffd;'>my <span> <span style='background-color:#fdfffd;'>secondary <span> <span style='background-color:#fdfffd;'>school <span> <span style='background-color:#fdfffd;'>mates <span> <span style='background-color:#fdfffd;'>and <span> <span style='background-color:#fdfffd;'>have <span> <span style='background-color:#fdfffd;'>distanced <span> <span style='background-color:#fdfffd;'>myself <span> <span style='background-color:#fcfffc;'>away <span> <span style='background-color:#fcfffc;'>from <span> <span style='background-color:#fcfffc;'>them <span> </p>"
            ],
            "text/plain": [
              "<IPython.core.display.HTML object>"
            ]
          },
          "metadata": {
            "tags": []
          }
        }
      ]
    },
    {
      "cell_type": "code",
      "metadata": {
        "id": "Tx2Gp_CXQdox",
        "colab_type": "code",
        "outputId": "b79424c1-426b-4a1f-b0b2-f57a26175984",
        "colab": {
          "base_uri": "https://localhost:8080/",
          "height": 211
        }
      },
      "source": [
        "emotions = [label for label, _ in label_probs.items()]\n",
        "scores = [score for _, score in label_probs.items()]\n",
        "plt.figure(figsize=(5,3))\n",
        "plt.bar(np.arange(len(emotions)), scores, align='center', alpha=0.5, color=['pink', 'red', 'orange', 'brown', 'cyan', \"purple\"])\n",
        "plt.xticks(np.arange(len(emotions)), emotions)\n",
        "plt.ylabel('Scores')\n",
        "plt.show()"
      ],
      "execution_count": 0,
      "outputs": [
        {
          "output_type": "display_data",
          "data": {
            "image/png": "[encoded data removed]",
            "text/plain": [
              "<Figure size 360x216 with 1 Axes>"
            ]
          },
          "metadata": {
            "tags": [],
            "needs_background": "light"
          }
        }
      ]
    }
  ]
}